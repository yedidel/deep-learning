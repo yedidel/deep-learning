{
 "cells": [
  {
   "cell_type": "code",
   "execution_count": 5,
   "metadata": {},
   "outputs": [],
   "source": [
    "# Yedidel Louck 304901408 & David Milstein 204091318\n",
    "\n",
    "import math\n",
    "import numpy as np\n",
    "import pandas as pd\n",
    "from sklearn.model_selection import train_test_split\n",
    "\n",
    "\n"
   ]
  },
  {
   "cell_type": "code",
   "execution_count": 6,
   "metadata": {},
   "outputs": [
    {
     "name": "stdout",
     "output_type": "stream",
     "text": [
      "[0.5        0.88079708 0.98201379]\n"
     ]
    }
   ],
   "source": [
    " def sigmoid(z):\n",
    "    return np.array([ 1/(math.exp(-num)+1) for num in z])\n",
    "\n",
    "print(sigmoid(np.array([0,2,4])))\n",
    "\n"
   ]
  },
  {
   "cell_type": "code",
   "execution_count": 7,
   "metadata": {},
   "outputs": [],
   "source": [
    "def initialize_with_zeros(dim,isRandomValue = 0):\n",
    "    w = []\n",
    "    if(isRandomValue == 0):\n",
    "        w = np.zeros((dim, 1))\n",
    "    else:\n",
    "        w = np.random.rand(dim,1)\n",
    "    b = 0\n",
    "    return w,b\n",
    "    \n",
    "\n",
    "\n"
   ]
  },
  {
   "cell_type": "code",
   "execution_count": 8,
   "metadata": {},
   "outputs": [],
   "source": [
    "def propagate(w, b, X, Y):\n",
    "    m = X.shape[1]\n",
    "    \n",
    "#     print(w.T.shape)\n",
    "#     print(w.T)\n",
    "#     print(X.shape)\n",
    "    assert w.T.shape[1]== X.shape[0], \"w.T.shape[1] (\"+str(w.T.shape[1])+\") should be equal to: X.shape[0] (\"+str(X.shape[0])+\")\" \n",
    "    z = np.dot(w.T,X)+ b\n",
    "    A = sigmoid(z[0]) \n",
    "    cost = -(1/m)*(np.sum((Y*np.log(A)) + (1-Y) *np.log(1-A)))\n",
    "    dw = (1/m)* np.dot(X, ((A-Y).T))\n",
    "    db = (1/m) * np.sum(A-Y)\n",
    "    \n",
    "    return dw, db, cost"
   ]
  },
  {
   "cell_type": "code",
   "execution_count": 9,
   "metadata": {},
   "outputs": [],
   "source": [
    "dw, db, cost = propagate(np.array([[1.],[2.]]), 2., np.array([[1.,2.,-1.],[3.,4.,-3.2]]), np.array([[1,0,1]]))"
   ]
  },
  {
   "cell_type": "code",
   "execution_count": 10,
   "metadata": {},
   "outputs": [],
   "source": [
    "def optimize(w, b, X, Y, num_iterations, learning_rate): \n",
    "    \n",
    "    costs = []\n",
    "    dw=[]\n",
    "    db=0\n",
    "    cost=0\n",
    "    \n",
    "    for i in range(num_iterations): \n",
    "        dw, db, cost = propagate(w, b, X, Y)\n",
    "        \n",
    "  \n",
    "        w= (w.T- learning_rate*dw).T\n",
    "    \n",
    "        b-= learning_rate*db\n",
    "        costs.append(cost)\n",
    "        \n",
    "    grads = {\"dw\": dw,\"db\": db}\n",
    "    params = {\"w\":w,\"b\":b}\n",
    "    \n",
    "    return params, grads, costs"
   ]
  },
  {
   "cell_type": "code",
   "execution_count": 11,
   "metadata": {},
   "outputs": [],
   "source": [
    "#params, grads, costs = optimize(np.array([[1.],[2.]]), 2., np.array([[1.,2.,-1.],[3.,4.,-3.2]]), np.array([[1,0,1]]),\n",
    "#num_iterations= 100, learning_rate = 0.009)\n",
    "#print (params, grads)"
   ]
  },
  {
   "cell_type": "code",
   "execution_count": 12,
   "metadata": {},
   "outputs": [],
   "source": [
    "def predict(w, b, X):\n",
    "    z = np.dot(w.T, X)+ b\n",
    "    return np.around(sigmoid(z[0]))"
   ]
  },
  {
   "cell_type": "code",
   "execution_count": 13,
   "metadata": {
    "scrolled": true
   },
   "outputs": [
    {
     "name": "stdout",
     "output_type": "stream",
     "text": [
      "[1. 1. 0.]\n"
     ]
    }
   ],
   "source": [
    "w = np.array([[0.1124579],[0.23106775]])\n",
    "b = -0.3\n",
    "X = np.array([[1.,-1.1,-3.2],[1.2,2.,0.1]])\n",
    "print(predict(w, b, X))"
   ]
  },
  {
   "cell_type": "code",
   "execution_count": 14,
   "metadata": {},
   "outputs": [],
   "source": [
    "def model(X_train, Y_train, X_test, Y_test, num_iterations = 2000, learning_rate = 0.5):\n",
    "    \n",
    "    w,b = initialize_with_zeros(X_train.shape[0])  # 1 for random values\n",
    "  \n",
    "\n",
    "    params, grads, costs = optimize(w, b, X_train, Y_train, num_iterations, learning_rate)\n",
    "    \n",
    "    score = predict(params[\"w\"], params[\"b\"], X_train)\n",
    "    counter= np.sum(np.equal(score, Y_train))\n",
    "#     for i in range(len(Y_train)):\n",
    "#         if score[i] == Y_train[i]:\n",
    "#             counter+=1\n",
    "            \n",
    "    print(\"train success: \"+ str(counter/len(Y_train)*100)+\" %\")\n",
    "    print(str(counter)+ \" from: \"+str(len(Y_train)))\n",
    "   \n",
    "    score = predict(params[\"w\"], params[\"b\"], X_test)\n",
    "    counter= np.sum(np.equal(score, Y_test))\n",
    "#     for i in range(len(Y_test)):\n",
    "#         if score[i] == Y_test[i]:\n",
    "#             counter+=1\n",
    "            \n",
    "    print(\"test success: \"+ str(counter/len(Y_test)*100)+\" %\")\n",
    "    print(str(counter)+ \" from: \"+str(len(Y_test)))\n",
    "        \n"
   ]
  },
  {
   "cell_type": "code",
   "execution_count": 15,
   "metadata": {},
   "outputs": [],
   "source": [
    "df = pd.read_csv('diabetes.csv')\n",
    "features = df.drop(['Outcome'], axis = 1)\n",
    "features = ((features - features.mean())/features.std())\n",
    "X = np.array(features)\n",
    "Y = np.array(df['Outcome'])\n",
    "X_train, X_test, Y_train, Y_test = train_test_split(X, Y, random_state=0)\n"
   ]
  },
  {
   "cell_type": "code",
   "execution_count": 16,
   "metadata": {},
   "outputs": [],
   "source": [
    "X_train = X_train.T\n",
    "X_test = X_test.T"
   ]
  },
  {
   "cell_type": "code",
   "execution_count": 17,
   "metadata": {
    "scrolled": true
   },
   "outputs": [
    {
     "name": "stdout",
     "output_type": "stream",
     "text": [
      "train success: 76.5625 %\n",
      "441 from: 576\n",
      "test success: 80.20833333333334 %\n",
      "154 from: 192\n"
     ]
    }
   ],
   "source": [
    "model(X_train, Y_train, X_test, Y_test)"
   ]
  },
  {
   "cell_type": "code",
   "execution_count": null,
   "metadata": {},
   "outputs": [],
   "source": []
  },
  {
   "cell_type": "code",
   "execution_count": null,
   "metadata": {},
   "outputs": [],
   "source": []
  },
  {
   "cell_type": "code",
   "execution_count": null,
   "metadata": {},
   "outputs": [],
   "source": []
  }
 ],
 "metadata": {
  "kernelspec": {
   "display_name": "Python 3",
   "language": "python",
   "name": "python3"
  },
  "language_info": {
   "codemirror_mode": {
    "name": "ipython",
    "version": 3
   },
   "file_extension": ".py",
   "mimetype": "text/x-python",
   "name": "python",
   "nbconvert_exporter": "python",
   "pygments_lexer": "ipython3",
   "version": "3.7.0"
  }
 },
 "nbformat": 4,
 "nbformat_minor": 4
}
